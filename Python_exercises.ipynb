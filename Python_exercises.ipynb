{
 "cells": [
  {
   "cell_type": "code",
   "execution_count": 10,
   "metadata": {},
   "outputs": [
    {
     "name": "stdout",
     "output_type": "stream",
     "text": [
      "[2002, 2009, 2016, 2023, 2037, 2044, 2051, 2058, 2072, 2079, 2086, 2093, 2107, 2114, 2121, 2128, 2142, 2149, 2156, 2163, 2177, 2184, 2191, 2198, 2212, 2219, 2226, 2233, 2247, 2254, 2261, 2268, 2282, 2289, 2296, 2303, 2317, 2324, 2331, 2338, 2352, 2359, 2366, 2373, 2387, 2394, 2401, 2408, 2422, 2429, 2436, 2443, 2457, 2464, 2471, 2478, 2492, 2499, 2506, 2513, 2527, 2534, 2541, 2548, 2562, 2569, 2576, 2583, 2597, 2604, 2611, 2618, 2632, 2639, 2646, 2653, 2667, 2674, 2681, 2688, 2702, 2709, 2716, 2723, 2737, 2744, 2751, 2758, 2772, 2779, 2786, 2793, 2807, 2814, 2821, 2828, 2842, 2849, 2856, 2863, 2877, 2884, 2891, 2898, 2912, 2919, 2926, 2933, 2947, 2954, 2961, 2968, 2982, 2989, 2996, 3003, 3017, 3024, 3031, 3038, 3052, 3059, 3066, 3073, 3087, 3094, 3101, 3108, 3122, 3129, 3136, 3143, 3157, 3164, 3171, 3178, 3192, 3199]\n"
     ]
    }
   ],
   "source": [
    "numbers = []\n",
    "for x in range(2000, 3201):\n",
    "    if x%7 == 0 and x%5 !=0:\n",
    "        numbers.append(x)#appending output to list\n",
    "print(numbers, sep = \",\")#separating values with \",\""
   ]
  },
  {
   "cell_type": "code",
   "execution_count": 36,
   "metadata": {},
   "outputs": [
    {
     "name": "stdout",
     "output_type": "stream",
     "text": [
      "120\n"
     ]
    }
   ],
   "source": [
    "\"\"\"Question 2 using for\n",
    "x = 5\n",
    "fact = 1 \n",
    "for i in range(1, x + 1):\n",
    "       fact = i*fact\n",
    "print (fact)\"\"\"\n",
    "#Question 2 using while\n",
    "x = 5\n",
    "i = 1\n",
    "fact = 1\n",
    "while i <= x:\n",
    "    fact = i*fact #1*1=1, 2*1=2, 3*2=6, 4*6 =25, 5*25=120...\n",
    "    i += 1\n",
    "print (fact)"
   ]
  },
  {
   "cell_type": "code",
   "execution_count": 62,
   "metadata": {},
   "outputs": [
    {
     "name": "stdout",
     "output_type": "stream",
     "text": [
      "{1: 1, 2: 4, 3: 9, 4: 16, 5: 25, 6: 36, 7: 49, 8: 64}\n"
     ]
    }
   ],
   "source": [
    "#Question 3\n",
    "number = 8\n",
    "dict = {}\n",
    "for i in range (1, number+1):\n",
    "    dict[i]=i*i\n",
    "print(dict)\n",
    "\n",
    "\n",
    "    "
   ]
  },
  {
   "cell_type": "code",
   "execution_count": 71,
   "metadata": {},
   "outputs": [
    {
     "name": "stdout",
     "output_type": "stream",
     "text": [
      "itten\n"
     ]
    }
   ],
   "source": [
    "#Question 4\n",
    "def missing_char(str, n):\n",
    "    first_value = str[:n]#take all string until the nth value\n",
    "    second_value = str[n+1:] #start from the n+1 value therefore n itself will not be taken\n",
    "    return first_value + second_value\n",
    "print(missing_char('kitten', 0))"
   ]
  },
  {
   "cell_type": "code",
   "execution_count": 89,
   "metadata": {},
   "outputs": [
    {
     "name": "stdout",
     "output_type": "stream",
     "text": [
      "Original array elements: \n",
      "[[0 1]\n",
      " [2 3]\n",
      " [4 5]]\n",
      "Array to list:  [[0, 1], [2, 3], [4, 5]]\n"
     ]
    }
   ],
   "source": [
    "#Question 5\n",
    "import numpy as np\n",
    "values = np.array([[0,1],[2,3],[4,5]])#taking the input as an array through numpy\n",
    "\n",
    "print(\"Original array elements: \")\n",
    "print(values)#printing the array\n",
    "print(\"Array to list: \", values.tolist())#converting the array to list"
   ]
  },
  {
   "cell_type": "code",
   "execution_count": 93,
   "metadata": {},
   "outputs": [
    {
     "name": "stdout",
     "output_type": "stream",
     "text": [
      "Original array1:  [0 1 2]\n",
      "Original array2:  [2 1 0]\n",
      "Covariance matrix of the said arrays: \n",
      "[[ 1. -1.]\n",
      " [-1.  1.]]\n"
     ]
    }
   ],
   "source": [
    "#Question 6\n",
    "import numpy as np\n",
    "array1 = np.array([0,1,2])\n",
    "array2 = np.array([2,1,0])\n",
    "\n",
    "print(\"Original array1: \",array1) \n",
    "print(\"Original array2: \",array2)\n",
    "print(\"Covariance matrix of the said arrays: \")\n",
    "print(np.cov(array1, array2))"
   ]
  },
  {
   "cell_type": "code",
   "execution_count": 156,
   "metadata": {},
   "outputs": [
    {
     "name": "stdout",
     "output_type": "stream",
     "text": [
      "Enter numbers separated by commas: 100,150,180\n",
      "18\n",
      "22\n",
      "24\n"
     ]
    }
   ],
   "source": [
    "#Question 7\n",
    "import math\n",
    "\n",
    "C=50\n",
    "H=30\n",
    "D = input(\"Enter numbers separated by commas: \")\n",
    "D = D.split(',')#define that the input has comma as separator\n",
    "for i in D:\n",
    "    Q= round(math.sqrt(2 * C * int(i) / H))\n",
    "    print(Q)"
   ]
  },
  {
   "cell_type": "code",
   "execution_count": null,
   "metadata": {},
   "outputs": [],
   "source": []
  }
 ],
 "metadata": {
  "kernelspec": {
   "display_name": "Python 3",
   "language": "python",
   "name": "python3"
  },
  "language_info": {
   "codemirror_mode": {
    "name": "ipython",
    "version": 3
   },
   "file_extension": ".py",
   "mimetype": "text/x-python",
   "name": "python",
   "nbconvert_exporter": "python",
   "pygments_lexer": "ipython3",
   "version": "3.8.5"
  }
 },
 "nbformat": 4,
 "nbformat_minor": 4
}
